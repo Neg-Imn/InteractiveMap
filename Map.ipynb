{
  "nbformat": 4,
  "nbformat_minor": 0,
  "metadata": {
    "colab": {
      "provenance": [],
      "authorship_tag": "ABX9TyPMwRgCt1i28Ac8wn3B0Et/",
      "include_colab_link": true
    },
    "kernelspec": {
      "name": "python3",
      "display_name": "Python 3"
    },
    "language_info": {
      "name": "python"
    }
  },
  "cells": [
    {
      "cell_type": "markdown",
      "metadata": {
        "id": "view-in-github",
        "colab_type": "text"
      },
      "source": [
        "<a href=\"https://colab.research.google.com/github/Neg-Imn/InteractiveMap/blob/main/Map.ipynb\" target=\"_parent\"><img src=\"https://colab.research.google.com/assets/colab-badge.svg\" alt=\"Open In Colab\"/></a>"
      ]
    },
    {
      "cell_type": "code",
      "execution_count": 2,
      "metadata": {
        "id": "9xUO3TncZg8J"
      },
      "outputs": [],
      "source": [
        "import folium\n",
        "from folium import IFrame\n",
        "import plotly.express as px\n",
        "import pandas as pd"
      ]
    },
    {
      "cell_type": "code",
      "source": [
        "df = pd.read_excel(\"Strategies&Coordinates.xlsx\")  # with columns: City, Strategy, SubStrategy, Intervention, lat, lng\n",
        "for col in df.columns:\n",
        "  print (col)"
      ],
      "metadata": {
        "colab": {
          "base_uri": "https://localhost:8080/"
        },
        "id": "h9mmUtOwZyDH",
        "outputId": "283ce5bf-f547-4912-cfcb-6a41f0da11ab"
      },
      "execution_count": 25,
      "outputs": [
        {
          "output_type": "stream",
          "name": "stdout",
          "text": [
            "City\n",
            "Strategy\n",
            "SubStrategy\n",
            "Intervention\n",
            "city_ascii\n",
            "lat\n",
            "lng\n",
            "Country\n",
            "Copy of Po\n"
          ]
        }
      ]
    },
    {
      "cell_type": "code",
      "source": [
        "import folium\n",
        "import pandas as pd\n",
        "import plotly.express as px\n",
        "from folium import IFrame\n",
        "\n",
        "# Assume df contains your full dataset with a 'City' column\n",
        "# and coordinates in 'lat' and 'lng'\n",
        "\n",
        "# Step 1: Precompute intervention count per city\n",
        "intervention_counts = df.groupby('City').size().reset_index(name='InterventionCount')\n",
        "\n",
        "# Step 2: Get list of unique cities\n",
        "cities = df['City'].unique()\n",
        "\n",
        "# Step 3: Initialize Folium map\n",
        "m = folium.Map(location=[20, 0], zoom_start=2)\n",
        "\n",
        "# Step 4: Loop through each city\n",
        "for city in cities:\n",
        "    df_city = df[df['City'] == city]\n",
        "    lat = df_city['lat'].values[0]\n",
        "    lon = df_city['lng'].values[0]\n",
        "\n",
        "    # ✅ Get count from precomputed table\n",
        "    count = intervention_counts[intervention_counts['City'] == city]['InterventionCount'].values[0]\n",
        "\n",
        "    # Generate sunburst\n",
        "    fig = px.sunburst(\n",
        "        df_city,\n",
        "        path=['City', 'Strategy', 'SubStrategy', 'Intervention'],\n",
        "        values=None\n",
        "    )\n",
        "    fig.update_layout(margin=dict(t=0, l=0, r=0, b=0))\n",
        "\n",
        "    # Export Plotly figure to HTML snippet\n",
        "    sunburst_html = fig.to_html(full_html=False, include_plotlyjs='cdn')\n",
        "    iframe = IFrame(sunburst_html, width=500, height=500)\n",
        "    popup = folium.Popup(iframe, max_width=650)\n",
        "\n",
        "    # Add marker with popup\n",
        "    folium.CircleMarker(\n",
        "        location=[lat, lon],\n",
        "        radius=5 + count * 0.5,  # scale radius (adjust as needed)\n",
        "        color='blue',\n",
        "        fill=True,\n",
        "        fill_color='blue',\n",
        "        fill_opacity=0.6,\n",
        "        popup=popup,\n",
        "        tooltip=f\"{city}: {count} interventions\"\n",
        "    ).add_to(m)\n",
        "\n",
        "# Step 5: Save map to file\n",
        "m.save(\"urban_strategies_mapCircleCount1.html\")"
      ],
      "metadata": {
        "id": "mraJsOa8aMtQ"
      },
      "execution_count": 29,
      "outputs": []
    },
    {
      "cell_type": "code",
      "source": [],
      "metadata": {
        "id": "oBC0xuh_RS4I"
      },
      "execution_count": null,
      "outputs": []
    }
  ]
}